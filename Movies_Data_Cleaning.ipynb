{
 "cells": [
  {
   "cell_type": "code",
   "execution_count": 1,
   "id": "47ff19e4",
   "metadata": {},
   "outputs": [],
   "source": [
    "import pandas as pd\n",
    "import numpy as np"
   ]
  },
  {
   "cell_type": "code",
   "execution_count": 2,
   "id": "ae5b01f2",
   "metadata": {},
   "outputs": [],
   "source": [
    "df = pd.read_csv(\"movies.csv\")"
   ]
  },
  {
   "cell_type": "markdown",
   "id": "a22524f1",
   "metadata": {},
   "source": [
    "### Explore the dataset"
   ]
  },
  {
   "cell_type": "code",
   "execution_count": 3,
   "id": "84a641a8",
   "metadata": {
    "scrolled": true
   },
   "outputs": [
    {
     "name": "stdout",
     "output_type": "stream",
     "text": [
      "=============================================================================================================================\n",
      "Dataset Before Cleaning\n",
      "=============================================================================================================================\n"
     ]
    },
    {
     "data": {
      "text/html": [
       "<div>\n",
       "<style scoped>\n",
       "    .dataframe tbody tr th:only-of-type {\n",
       "        vertical-align: middle;\n",
       "    }\n",
       "\n",
       "    .dataframe tbody tr th {\n",
       "        vertical-align: top;\n",
       "    }\n",
       "\n",
       "    .dataframe thead th {\n",
       "        text-align: right;\n",
       "    }\n",
       "</style>\n",
       "<table border=\"1\" class=\"dataframe\">\n",
       "  <thead>\n",
       "    <tr style=\"text-align: right;\">\n",
       "      <th></th>\n",
       "      <th>MOVIES</th>\n",
       "      <th>YEAR</th>\n",
       "      <th>GENRE</th>\n",
       "      <th>RATING</th>\n",
       "      <th>ONE-LINE</th>\n",
       "      <th>STARS</th>\n",
       "      <th>VOTES</th>\n",
       "      <th>RunTime</th>\n",
       "      <th>Gross</th>\n",
       "    </tr>\n",
       "  </thead>\n",
       "  <tbody>\n",
       "    <tr>\n",
       "      <th>0</th>\n",
       "      <td>Blood Red Sky</td>\n",
       "      <td>(2021)</td>\n",
       "      <td>\\nAction, Horror, Thriller</td>\n",
       "      <td>6.1</td>\n",
       "      <td>\\nA woman with a mysterious illness is forced ...</td>\n",
       "      <td>\\n    Director:\\nPeter Thorwarth\\n| \\n    Star...</td>\n",
       "      <td>21,062</td>\n",
       "      <td>121.0</td>\n",
       "      <td>NaN</td>\n",
       "    </tr>\n",
       "    <tr>\n",
       "      <th>1</th>\n",
       "      <td>Masters of the Universe: Revelation</td>\n",
       "      <td>(2021– )</td>\n",
       "      <td>\\nAnimation, Action, Adventure</td>\n",
       "      <td>5.0</td>\n",
       "      <td>\\nThe war for Eternia begins again in what may...</td>\n",
       "      <td>\\n            \\n    Stars:\\nChris Wood, \\nSara...</td>\n",
       "      <td>17,870</td>\n",
       "      <td>25.0</td>\n",
       "      <td>NaN</td>\n",
       "    </tr>\n",
       "    <tr>\n",
       "      <th>2</th>\n",
       "      <td>The Walking Dead</td>\n",
       "      <td>(2010–2022)</td>\n",
       "      <td>\\nDrama, Horror, Thriller</td>\n",
       "      <td>8.2</td>\n",
       "      <td>\\nSheriff Deputy Rick Grimes wakes up from a c...</td>\n",
       "      <td>\\n            \\n    Stars:\\nAndrew Lincoln, \\n...</td>\n",
       "      <td>885,805</td>\n",
       "      <td>44.0</td>\n",
       "      <td>NaN</td>\n",
       "    </tr>\n",
       "    <tr>\n",
       "      <th>3</th>\n",
       "      <td>Rick and Morty</td>\n",
       "      <td>(2013– )</td>\n",
       "      <td>\\nAnimation, Adventure, Comedy</td>\n",
       "      <td>9.2</td>\n",
       "      <td>\\nAn animated series that follows the exploits...</td>\n",
       "      <td>\\n            \\n    Stars:\\nJustin Roiland, \\n...</td>\n",
       "      <td>414,849</td>\n",
       "      <td>23.0</td>\n",
       "      <td>NaN</td>\n",
       "    </tr>\n",
       "    <tr>\n",
       "      <th>4</th>\n",
       "      <td>Army of Thieves</td>\n",
       "      <td>(2021)</td>\n",
       "      <td>\\nAction, Crime, Horror</td>\n",
       "      <td>NaN</td>\n",
       "      <td>\\nA prequel, set before the events of Army of ...</td>\n",
       "      <td>\\n    Director:\\nMatthias Schweighöfer\\n| \\n  ...</td>\n",
       "      <td>NaN</td>\n",
       "      <td>NaN</td>\n",
       "      <td>NaN</td>\n",
       "    </tr>\n",
       "  </tbody>\n",
       "</table>\n",
       "</div>"
      ],
      "text/plain": [
       "                                MOVIES         YEAR  \\\n",
       "0                        Blood Red Sky       (2021)   \n",
       "1  Masters of the Universe: Revelation     (2021– )   \n",
       "2                     The Walking Dead  (2010–2022)   \n",
       "3                       Rick and Morty     (2013– )   \n",
       "4                      Army of Thieves       (2021)   \n",
       "\n",
       "                                        GENRE  RATING  \\\n",
       "0      \\nAction, Horror, Thriller                 6.1   \n",
       "1  \\nAnimation, Action, Adventure                 5.0   \n",
       "2       \\nDrama, Horror, Thriller                 8.2   \n",
       "3  \\nAnimation, Adventure, Comedy                 9.2   \n",
       "4         \\nAction, Crime, Horror                 NaN   \n",
       "\n",
       "                                            ONE-LINE  \\\n",
       "0  \\nA woman with a mysterious illness is forced ...   \n",
       "1  \\nThe war for Eternia begins again in what may...   \n",
       "2  \\nSheriff Deputy Rick Grimes wakes up from a c...   \n",
       "3  \\nAn animated series that follows the exploits...   \n",
       "4  \\nA prequel, set before the events of Army of ...   \n",
       "\n",
       "                                               STARS    VOTES  RunTime Gross  \n",
       "0  \\n    Director:\\nPeter Thorwarth\\n| \\n    Star...   21,062    121.0   NaN  \n",
       "1  \\n            \\n    Stars:\\nChris Wood, \\nSara...   17,870     25.0   NaN  \n",
       "2  \\n            \\n    Stars:\\nAndrew Lincoln, \\n...  885,805     44.0   NaN  \n",
       "3  \\n            \\n    Stars:\\nJustin Roiland, \\n...  414,849     23.0   NaN  \n",
       "4  \\n    Director:\\nMatthias Schweighöfer\\n| \\n  ...      NaN      NaN   NaN  "
      ]
     },
     "execution_count": 3,
     "metadata": {},
     "output_type": "execute_result"
    }
   ],
   "source": [
    "print(\"=============================================================================================================================\")\n",
    "print(\"Dataset Before Cleaning\")\n",
    "print(\"=============================================================================================================================\")\n",
    "df.head()"
   ]
  },
  {
   "cell_type": "code",
   "execution_count": 4,
   "id": "2b3b02e7",
   "metadata": {},
   "outputs": [
    {
     "name": "stdout",
     "output_type": "stream",
     "text": [
      "<class 'pandas.core.frame.DataFrame'>\n",
      "RangeIndex: 9999 entries, 0 to 9998\n",
      "Data columns (total 9 columns):\n",
      " #   Column    Non-Null Count  Dtype  \n",
      "---  ------    --------------  -----  \n",
      " 0   MOVIES    9999 non-null   object \n",
      " 1   YEAR      9355 non-null   object \n",
      " 2   GENRE     9919 non-null   object \n",
      " 3   RATING    8179 non-null   float64\n",
      " 4   ONE-LINE  9999 non-null   object \n",
      " 5   STARS     9999 non-null   object \n",
      " 6   VOTES     8179 non-null   object \n",
      " 7   RunTime   7041 non-null   float64\n",
      " 8   Gross     460 non-null    object \n",
      "dtypes: float64(2), object(7)\n",
      "memory usage: 703.2+ KB\n"
     ]
    }
   ],
   "source": [
    "# Dataset Overview\n",
    "df.info()"
   ]
  },
  {
   "cell_type": "code",
   "execution_count": 5,
   "id": "3c943874",
   "metadata": {},
   "outputs": [
    {
     "data": {
      "text/plain": [
       "MOVIES         0\n",
       "YEAR         644\n",
       "GENRE         80\n",
       "RATING      1820\n",
       "ONE-LINE       0\n",
       "STARS          0\n",
       "VOTES       1820\n",
       "RunTime     2958\n",
       "Gross       9539\n",
       "dtype: int64"
      ]
     },
     "execution_count": 5,
     "metadata": {},
     "output_type": "execute_result"
    }
   ],
   "source": [
    "# Check for missing values\n",
    "df.isna().sum()"
   ]
  },
  {
   "cell_type": "code",
   "execution_count": 6,
   "id": "b0f8bbbb",
   "metadata": {},
   "outputs": [
    {
     "name": "stdout",
     "output_type": "stream",
     "text": [
      "MOVIES       0.000000\n",
      "YEAR         6.440644\n",
      "GENRE        0.800080\n",
      "RATING      18.201820\n",
      "ONE-LINE     0.000000\n",
      "STARS        0.000000\n",
      "VOTES       18.201820\n",
      "RunTime     29.582958\n",
      "Gross       95.399540\n",
      "dtype: float64\n"
     ]
    }
   ],
   "source": [
    "# Check the percentage of missing values\n",
    "missing_percentages = (df.isna().sum() / len(df)) * 100\n",
    "print(missing_percentages)"
   ]
  },
  {
   "cell_type": "code",
   "execution_count": 7,
   "id": "1a563fa6",
   "metadata": {},
   "outputs": [
    {
     "data": {
      "text/plain": [
       "431"
      ]
     },
     "execution_count": 7,
     "metadata": {},
     "output_type": "execute_result"
    }
   ],
   "source": [
    "# Check the sum of duplicates \n",
    "df.duplicated().sum()\n"
   ]
  },
  {
   "cell_type": "markdown",
   "id": "6477e484",
   "metadata": {},
   "source": [
    "### Data Cleaning"
   ]
  },
  {
   "cell_type": "code",
   "execution_count": 8,
   "id": "d4ab78f3",
   "metadata": {
    "scrolled": true
   },
   "outputs": [
    {
     "data": {
      "text/plain": [
       "0       2021.0\n",
       "1       2021.0\n",
       "2       2010.0\n",
       "3       2013.0\n",
       "4       2021.0\n",
       "         ...  \n",
       "9994    2021.0\n",
       "9995    2021.0\n",
       "9996    2022.0\n",
       "9997    2021.0\n",
       "9998    2021.0\n",
       "Name: YEAR, Length: 9999, dtype: float64"
      ]
     },
     "execution_count": 8,
     "metadata": {},
     "output_type": "execute_result"
    }
   ],
   "source": [
    "# Cleaning YEAR column\n",
    "df['YEAR'] = df['YEAR'].str.extract(r'(\\d{4})').astype(float)\n",
    "df['YEAR']"
   ]
  },
  {
   "cell_type": "code",
   "execution_count": 9,
   "id": "ce86d0a7",
   "metadata": {},
   "outputs": [
    {
     "data": {
      "text/plain": [
       "0           Action, Horror, Thriller\n",
       "1       Animation, Action, Adventure\n",
       "2            Drama, Horror, Thriller\n",
       "3       Animation, Adventure, Comedy\n",
       "4              Action, Crime, Horror\n",
       "                    ...             \n",
       "9994       Adventure, Drama, Fantasy\n",
       "9995    Animation, Action, Adventure\n",
       "9996              Documentary, Sport\n",
       "9997       Adventure, Drama, Fantasy\n",
       "9998       Adventure, Drama, Fantasy\n",
       "Name: GENRE, Length: 9999, dtype: object"
      ]
     },
     "execution_count": 9,
     "metadata": {},
     "output_type": "execute_result"
    }
   ],
   "source": [
    "# Cleaning GENRE column\n",
    "df['GENRE'] = df['GENRE'].str.replace(r'\\\\n', '').str.strip()\n",
    "df['GENRE']"
   ]
  },
  {
   "cell_type": "code",
   "execution_count": 10,
   "id": "7958e6ba",
   "metadata": {},
   "outputs": [
    {
     "data": {
      "text/plain": [
       "0       \\nA woman with a mysterious illness is forced ...\n",
       "1       \\nThe war for Eternia begins again in what may...\n",
       "2       \\nSheriff Deputy Rick Grimes wakes up from a c...\n",
       "3       \\nAn animated series that follows the exploits...\n",
       "4       \\nA prequel, set before the events of Army of ...\n",
       "                              ...                        \n",
       "9994                                       \\nAdd a Plot\\n\n",
       "9995                                       \\nAdd a Plot\\n\n",
       "9996                                       \\nAdd a Plot\\n\n",
       "9997                                       \\nAdd a Plot\\n\n",
       "9998                                       \\nAdd a Plot\\n\n",
       "Name: ONE-LINE, Length: 9999, dtype: object"
      ]
     },
     "execution_count": 10,
     "metadata": {},
     "output_type": "execute_result"
    }
   ],
   "source": [
    "df['ONE-LINE']"
   ]
  },
  {
   "cell_type": "code",
   "execution_count": 11,
   "id": "f298a662",
   "metadata": {},
   "outputs": [
    {
     "data": {
      "text/plain": [
       "0       A woman with a mysterious illness is forced in...\n",
       "1       The war for Eternia begins again in what may b...\n",
       "2       Sheriff Deputy Rick Grimes wakes up from a com...\n",
       "3       An animated series that follows the exploits o...\n",
       "4       A prequel, set before the events of Army of th...\n",
       "                              ...                        \n",
       "9994                                           Add a Plot\n",
       "9995                                           Add a Plot\n",
       "9996                                           Add a Plot\n",
       "9997                                           Add a Plot\n",
       "9998                                           Add a Plot\n",
       "Name: ONE-LINE, Length: 9999, dtype: object"
      ]
     },
     "execution_count": 11,
     "metadata": {},
     "output_type": "execute_result"
    }
   ],
   "source": [
    "# Cleaning ONE-LINE column\n",
    "df['ONE-LINE'] = df['ONE-LINE'].str.replace(r'\\\\n', '').str.strip()\n",
    "df['ONE-LINE']"
   ]
  },
  {
   "cell_type": "code",
   "execution_count": 12,
   "id": "a855a5c2",
   "metadata": {},
   "outputs": [
    {
     "data": {
      "text/plain": [
       "0       A woman with a mysterious illness is forced in...\n",
       "1       The war for Eternia begins again in what may b...\n",
       "2       Sheriff Deputy Rick Grimes wakes up from a com...\n",
       "3       An animated series that follows the exploits o...\n",
       "4       A prequel, set before the events of Army of th...\n",
       "                              ...                        \n",
       "9994                                              Unknown\n",
       "9995                                              Unknown\n",
       "9996                                              Unknown\n",
       "9997                                              Unknown\n",
       "9998                                              Unknown\n",
       "Name: ONE-LINE, Length: 9999, dtype: object"
      ]
     },
     "execution_count": 12,
     "metadata": {},
     "output_type": "execute_result"
    }
   ],
   "source": [
    "# Replace \"Add a plot\" with \"Unknown\"\n",
    "df['ONE-LINE'] = df['ONE-LINE'].replace('Add a Plot', 'Unknown')\n",
    "df['ONE-LINE']"
   ]
  },
  {
   "cell_type": "code",
   "execution_count": 13,
   "id": "26a72087",
   "metadata": {
    "scrolled": true
   },
   "outputs": [
    {
     "data": {
      "text/plain": [
       "0       \\n    Director:\\nPeter Thorwarth\\n| \\n    Star...\n",
       "1       \\n            \\n    Stars:\\nChris Wood, \\nSara...\n",
       "2       \\n            \\n    Stars:\\nAndrew Lincoln, \\n...\n",
       "3       \\n            \\n    Stars:\\nJustin Roiland, \\n...\n",
       "4       \\n    Director:\\nMatthias Schweighöfer\\n| \\n  ...\n",
       "                              ...                        \n",
       "9994    \\n            \\n    Stars:\\nMorgan Taylor Camp...\n",
       "9995                                                   \\n\n",
       "9996    \\n    Director:\\nOrlando von Einsiedel\\n| \\n  ...\n",
       "9997    \\n    Director:\\nJovanka Vuckovic\\n| \\n    Sta...\n",
       "9998    \\n    Director:\\nJovanka Vuckovic\\n| \\n    Sta...\n",
       "Name: STARS, Length: 9999, dtype: object"
      ]
     },
     "execution_count": 13,
     "metadata": {},
     "output_type": "execute_result"
    }
   ],
   "source": [
    "# Clean the STARS column\n",
    "df['STARS']"
   ]
  },
  {
   "cell_type": "code",
   "execution_count": 14,
   "id": "cc84d0c9",
   "metadata": {},
   "outputs": [],
   "source": [
    "# Define a function to extract 'Director' and 'Stars' from the STARS column\n",
    "def extract_director_stars_info(text):\n",
    "    \"\"\"\n",
    "    Extracts 'Director' and 'Stars' information from a given text.\n",
    "    Args:\n",
    "    - text (str): The text to extract information from.\n",
    "    \n",
    "    Returns:\n",
    "    - tuple: Contains the extracted director and stars (both as strings).\n",
    "    \"\"\"\n",
    "    # Use a dictionary for pattern-based extraction\n",
    "    info = {'Director': None, 'Stars': None}\n",
    "    \n",
    "    # Check and extract 'Director' information if present\n",
    "    if 'Director:' in text:\n",
    "        # Locate and clean 'Director' value\n",
    "        info['Director'] = text.split('Director:\\n')[1].split('\\n|')[0].strip()\n",
    "    \n",
    "    # Check and extract 'Stars' information if present\n",
    "    if 'Stars:' in text:\n",
    "        # Extract 'Stars' and remove unnecessary whitespaces\n",
    "        info['Stars'] = text.split('Stars:\\n')[1].strip()\n",
    "    \n",
    "    return info['Director'], info['Stars']"
   ]
  },
  {
   "cell_type": "code",
   "execution_count": 15,
   "id": "90a956ed",
   "metadata": {},
   "outputs": [],
   "source": [
    "# Apply the extract_director_stars_info function to the 'STARS' column\n",
    "# Use .apply() with expand=True to separate Director and Stars into separate columns\n",
    "df[['Director', 'Stars']] = df['STARS'].apply(\n",
    "    lambda x: pd.Series(extract_director_stars_info(x))\n",
    ")\n",
    "\n",
    "# Drop the original 'STARS' column after extraction\n",
    "df.drop('STARS', axis=1, inplace=True)\n",
    "\n",
    "# Clean the 'Stars' column further\n",
    "# Replace any extra spaces with single spaces, or set value to 'Unknown' if invalid\n",
    "df['Stars'] = df['Stars'].apply(\n",
    "    lambda x: ' '.join(x.split()) if isinstance(x, str) and x.strip() != 'Unknown' else 'Unknown'\n",
    ")"
   ]
  },
  {
   "cell_type": "code",
   "execution_count": 16,
   "id": "29741f44",
   "metadata": {},
   "outputs": [
    {
     "data": {
      "text/html": [
       "<div>\n",
       "<style scoped>\n",
       "    .dataframe tbody tr th:only-of-type {\n",
       "        vertical-align: middle;\n",
       "    }\n",
       "\n",
       "    .dataframe tbody tr th {\n",
       "        vertical-align: top;\n",
       "    }\n",
       "\n",
       "    .dataframe thead th {\n",
       "        text-align: right;\n",
       "    }\n",
       "</style>\n",
       "<table border=\"1\" class=\"dataframe\">\n",
       "  <thead>\n",
       "    <tr style=\"text-align: right;\">\n",
       "      <th></th>\n",
       "      <th>Director</th>\n",
       "      <th>Stars</th>\n",
       "    </tr>\n",
       "  </thead>\n",
       "  <tbody>\n",
       "    <tr>\n",
       "      <th>0</th>\n",
       "      <td>Peter Thorwarth</td>\n",
       "      <td>Peri Baumeister, Carl Anton Koch, Alexander Sc...</td>\n",
       "    </tr>\n",
       "    <tr>\n",
       "      <th>1</th>\n",
       "      <td>None</td>\n",
       "      <td>Chris Wood, Sarah Michelle Gellar, Lena Headey...</td>\n",
       "    </tr>\n",
       "    <tr>\n",
       "      <th>2</th>\n",
       "      <td>None</td>\n",
       "      <td>Andrew Lincoln, Norman Reedus, Melissa McBride...</td>\n",
       "    </tr>\n",
       "    <tr>\n",
       "      <th>3</th>\n",
       "      <td>None</td>\n",
       "      <td>Justin Roiland, Chris Parnell, Spencer Grammer...</td>\n",
       "    </tr>\n",
       "    <tr>\n",
       "      <th>4</th>\n",
       "      <td>Matthias Schweighöfer</td>\n",
       "      <td>Matthias Schweighöfer, Nathalie Emmanuel, Ruby...</td>\n",
       "    </tr>\n",
       "  </tbody>\n",
       "</table>\n",
       "</div>"
      ],
      "text/plain": [
       "                Director                                              Stars\n",
       "0        Peter Thorwarth  Peri Baumeister, Carl Anton Koch, Alexander Sc...\n",
       "1                   None  Chris Wood, Sarah Michelle Gellar, Lena Headey...\n",
       "2                   None  Andrew Lincoln, Norman Reedus, Melissa McBride...\n",
       "3                   None  Justin Roiland, Chris Parnell, Spencer Grammer...\n",
       "4  Matthias Schweighöfer  Matthias Schweighöfer, Nathalie Emmanuel, Ruby..."
      ]
     },
     "execution_count": 16,
     "metadata": {},
     "output_type": "execute_result"
    }
   ],
   "source": [
    "df[['Director', 'Stars']].head()"
   ]
  },
  {
   "cell_type": "code",
   "execution_count": 17,
   "id": "e47f9124",
   "metadata": {},
   "outputs": [
    {
     "data": {
      "text/plain": [
       "dtype('O')"
      ]
     },
     "execution_count": 17,
     "metadata": {},
     "output_type": "execute_result"
    }
   ],
   "source": [
    "# Converting VOTES to numeric\n",
    "df['VOTES'].dtype"
   ]
  },
  {
   "cell_type": "code",
   "execution_count": 18,
   "id": "eaa90341",
   "metadata": {},
   "outputs": [],
   "source": [
    "# Remove the comma and convert data type to float\n",
    "df['VOTES'] = df['VOTES'].str.replace(',', '').astype(float)"
   ]
  },
  {
   "cell_type": "code",
   "execution_count": 19,
   "id": "282db5b2",
   "metadata": {
    "scrolled": false
   },
   "outputs": [
    {
     "data": {
      "text/plain": [
       "dtype('float64')"
      ]
     },
     "execution_count": 19,
     "metadata": {},
     "output_type": "execute_result"
    }
   ],
   "source": [
    "df['VOTES'].dtype"
   ]
  },
  {
   "cell_type": "code",
   "execution_count": 20,
   "id": "dda42f6f",
   "metadata": {},
   "outputs": [
    {
     "data": {
      "text/plain": [
       "Gross\n",
       "$0.01M     22\n",
       "$0.02M     16\n",
       "$0.00M     15\n",
       "$0.03M     10\n",
       "$0.04M      9\n",
       "           ..\n",
       "$37.77M     1\n",
       "$44.82M     1\n",
       "$21.36M     1\n",
       "$54.76M     1\n",
       "$10.40M     1\n",
       "Name: count, Length: 332, dtype: int64"
      ]
     },
     "execution_count": 20,
     "metadata": {},
     "output_type": "execute_result"
    }
   ],
   "source": [
    "df['Gross'].value_counts()"
   ]
  },
  {
   "cell_type": "code",
   "execution_count": 21,
   "id": "243203ae",
   "metadata": {},
   "outputs": [],
   "source": [
    "# Preprocess Gross column to remove non-numeric characters\n",
    "df['Gross'] = df['Gross'].str.replace(r'[^\\d.]', '', regex=True).astype(float)"
   ]
  },
  {
   "cell_type": "code",
   "execution_count": 22,
   "id": "7ef74a0e",
   "metadata": {},
   "outputs": [
    {
     "data": {
      "text/plain": [
       "MOVIES         0\n",
       "YEAR         748\n",
       "GENRE         80\n",
       "RATING      1820\n",
       "ONE-LINE       0\n",
       "VOTES       1820\n",
       "RunTime     2958\n",
       "Gross       9539\n",
       "Director    4643\n",
       "Stars          0\n",
       "dtype: int64"
      ]
     },
     "execution_count": 22,
     "metadata": {},
     "output_type": "execute_result"
    }
   ],
   "source": [
    "# Dealing with Missing values\n",
    "df.isnull().sum()"
   ]
  },
  {
   "cell_type": "code",
   "execution_count": 23,
   "id": "25acc0a3",
   "metadata": {
    "scrolled": true
   },
   "outputs": [
    {
     "name": "stdout",
     "output_type": "stream",
     "text": [
      "MOVIES      0\n",
      "YEAR        0\n",
      "GENRE       0\n",
      "RATING      0\n",
      "ONE-LINE    0\n",
      "VOTES       0\n",
      "RunTime     0\n",
      "Gross       0\n",
      "Director    0\n",
      "Stars       0\n",
      "dtype: int64\n"
     ]
    }
   ],
   "source": [
    "# Fill numeric columns with median\n",
    "numeric_cols = ['YEAR', 'RATING', 'VOTES', 'RunTime', 'Gross']\n",
    "for col in numeric_cols:\n",
    "    df[col] = df[col].fillna(df[col].median())\n",
    "\n",
    "# Fill GENRE with the mode\n",
    "df['GENRE'] = df['GENRE'].fillna(df['GENRE'].mode()[0])\n",
    "\n",
    "# Fill Director with \"Unknown\"\n",
    "df['Director'] = df['Director'].fillna('Unknown')\n",
    "\n",
    "# Verify missing values are handled\n",
    "print(df.isnull().sum())\n"
   ]
  },
  {
   "cell_type": "code",
   "execution_count": 24,
   "id": "b44bd781",
   "metadata": {},
   "outputs": [],
   "source": [
    "# dropping duplicates\n",
    "\n",
    "df = df.drop_duplicates()"
   ]
  },
  {
   "cell_type": "code",
   "execution_count": 25,
   "id": "69d5995e",
   "metadata": {},
   "outputs": [
    {
     "data": {
      "text/plain": [
       "0"
      ]
     },
     "execution_count": 25,
     "metadata": {},
     "output_type": "execute_result"
    }
   ],
   "source": [
    "df.duplicated().sum()"
   ]
  },
  {
   "cell_type": "code",
   "execution_count": 26,
   "id": "ae944a9a",
   "metadata": {},
   "outputs": [],
   "source": [
    "df['YEAR'] = df['YEAR'].astype(int)\n",
    "df['RunTime'] = df['RunTime'].astype(int)\n",
    "df['VOTES'] = df['VOTES'].astype(int)"
   ]
  },
  {
   "cell_type": "code",
   "execution_count": 27,
   "id": "55b2db67",
   "metadata": {},
   "outputs": [],
   "source": [
    "# Detect and remove outliers using IQR\n",
    "def remove_outliers(df, column):\n",
    "    Q1 = df[column].quantile(0.25)\n",
    "    Q3 = df[column].quantile(0.75)\n",
    "    IQR = Q3 - Q1\n",
    "    lower_bound = Q1 - 1.5 * IQR\n",
    "    upper_bound = Q3 + 1.5 * IQR\n",
    "    # Filter the dataset\n",
    "    df = df[(df[column] >= lower_bound) & (df[column] <= upper_bound)]\n",
    "    return df\n",
    "\n",
    "# List of numeric columns to check for outliers\n",
    "numeric_cols = ['RATING', 'VOTES', 'RunTime', 'Gross']\n",
    "\n",
    "for col in numeric_cols:\n",
    "    df = remove_outliers(df, col)"
   ]
  },
  {
   "cell_type": "code",
   "execution_count": 28,
   "id": "91011aee",
   "metadata": {},
   "outputs": [
    {
     "name": "stdout",
     "output_type": "stream",
     "text": [
      "=============================================================================================================================\n",
      "Dataset After Cleaning\n",
      "=============================================================================================================================\n"
     ]
    },
    {
     "data": {
      "text/html": [
       "<div>\n",
       "<style scoped>\n",
       "    .dataframe tbody tr th:only-of-type {\n",
       "        vertical-align: middle;\n",
       "    }\n",
       "\n",
       "    .dataframe tbody tr th {\n",
       "        vertical-align: top;\n",
       "    }\n",
       "\n",
       "    .dataframe thead th {\n",
       "        text-align: right;\n",
       "    }\n",
       "</style>\n",
       "<table border=\"1\" class=\"dataframe\">\n",
       "  <thead>\n",
       "    <tr style=\"text-align: right;\">\n",
       "      <th></th>\n",
       "      <th>MOVIES</th>\n",
       "      <th>YEAR</th>\n",
       "      <th>GENRE</th>\n",
       "      <th>RATING</th>\n",
       "      <th>ONE-LINE</th>\n",
       "      <th>VOTES</th>\n",
       "      <th>RunTime</th>\n",
       "      <th>Gross</th>\n",
       "      <th>Director</th>\n",
       "      <th>Stars</th>\n",
       "    </tr>\n",
       "  </thead>\n",
       "  <tbody>\n",
       "    <tr>\n",
       "      <th>4</th>\n",
       "      <td>Army of Thieves</td>\n",
       "      <td>2021</td>\n",
       "      <td>Action, Crime, Horror</td>\n",
       "      <td>7.1</td>\n",
       "      <td>A prequel, set before the events of Army of th...</td>\n",
       "      <td>789</td>\n",
       "      <td>60</td>\n",
       "      <td>6.145</td>\n",
       "      <td>Matthias Schweighöfer</td>\n",
       "      <td>Matthias Schweighöfer, Nathalie Emmanuel, Ruby...</td>\n",
       "    </tr>\n",
       "    <tr>\n",
       "      <th>24</th>\n",
       "      <td>He-Man and the Masters of the Universe</td>\n",
       "      <td>2021</td>\n",
       "      <td>Animation, Action, Adventure</td>\n",
       "      <td>7.1</td>\n",
       "      <td>Eternia's Prince Adam discovers the power of G...</td>\n",
       "      <td>789</td>\n",
       "      <td>60</td>\n",
       "      <td>6.145</td>\n",
       "      <td>Unknown</td>\n",
       "      <td>Unknown</td>\n",
       "    </tr>\n",
       "    <tr>\n",
       "      <th>64</th>\n",
       "      <td>Resort to Love</td>\n",
       "      <td>2021</td>\n",
       "      <td>Comedy, Romance</td>\n",
       "      <td>5.7</td>\n",
       "      <td>Erica, who ends up as the entertainment at her...</td>\n",
       "      <td>1591</td>\n",
       "      <td>101</td>\n",
       "      <td>6.145</td>\n",
       "      <td>Steven K. Tsuchida</td>\n",
       "      <td>Christina Milian, Tymberlee Hill, Kayne Lee Ha...</td>\n",
       "    </tr>\n",
       "    <tr>\n",
       "      <th>74</th>\n",
       "      <td>Feels Like Ishq</td>\n",
       "      <td>2021</td>\n",
       "      <td>Comedy, Drama, Romance</td>\n",
       "      <td>6.6</td>\n",
       "      <td>Short films follow young adults as they naviga...</td>\n",
       "      <td>848</td>\n",
       "      <td>32</td>\n",
       "      <td>6.145</td>\n",
       "      <td>Unknown</td>\n",
       "      <td>Jojo Singh, Mihir Ahuja, Kajol Chugh, Sumali K...</td>\n",
       "    </tr>\n",
       "    <tr>\n",
       "      <th>81</th>\n",
       "      <td>Sky Rojo</td>\n",
       "      <td>2021</td>\n",
       "      <td>Action, Adventure, Crime</td>\n",
       "      <td>6.5</td>\n",
       "      <td>Coral, Wendy, and Gina go on the run in search...</td>\n",
       "      <td>6940</td>\n",
       "      <td>31</td>\n",
       "      <td>6.145</td>\n",
       "      <td>Unknown</td>\n",
       "      <td>Verónica Sánchez, Miguel Ángel Silvestre, Asie...</td>\n",
       "    </tr>\n",
       "  </tbody>\n",
       "</table>\n",
       "</div>"
      ],
      "text/plain": [
       "                                    MOVIES  YEAR  \\\n",
       "4                          Army of Thieves  2021   \n",
       "24  He-Man and the Masters of the Universe  2021   \n",
       "64                          Resort to Love  2021   \n",
       "74                         Feels Like Ishq  2021   \n",
       "81                                Sky Rojo  2021   \n",
       "\n",
       "                           GENRE  RATING  \\\n",
       "4          Action, Crime, Horror     7.1   \n",
       "24  Animation, Action, Adventure     7.1   \n",
       "64               Comedy, Romance     5.7   \n",
       "74        Comedy, Drama, Romance     6.6   \n",
       "81      Action, Adventure, Crime     6.5   \n",
       "\n",
       "                                             ONE-LINE  VOTES  RunTime  Gross  \\\n",
       "4   A prequel, set before the events of Army of th...    789       60  6.145   \n",
       "24  Eternia's Prince Adam discovers the power of G...    789       60  6.145   \n",
       "64  Erica, who ends up as the entertainment at her...   1591      101  6.145   \n",
       "74  Short films follow young adults as they naviga...    848       32  6.145   \n",
       "81  Coral, Wendy, and Gina go on the run in search...   6940       31  6.145   \n",
       "\n",
       "                 Director                                              Stars  \n",
       "4   Matthias Schweighöfer  Matthias Schweighöfer, Nathalie Emmanuel, Ruby...  \n",
       "24                Unknown                                            Unknown  \n",
       "64     Steven K. Tsuchida  Christina Milian, Tymberlee Hill, Kayne Lee Ha...  \n",
       "74                Unknown  Jojo Singh, Mihir Ahuja, Kajol Chugh, Sumali K...  \n",
       "81                Unknown  Verónica Sánchez, Miguel Ángel Silvestre, Asie...  "
      ]
     },
     "execution_count": 28,
     "metadata": {},
     "output_type": "execute_result"
    }
   ],
   "source": [
    "print(\"=============================================================================================================================\")\n",
    "print(\"Dataset After Cleaning\")\n",
    "print(\"=============================================================================================================================\")\n",
    "df.head()"
   ]
  },
  {
   "cell_type": "code",
   "execution_count": 29,
   "id": "a3ce6da3",
   "metadata": {},
   "outputs": [
    {
     "name": "stdout",
     "output_type": "stream",
     "text": [
      "<class 'pandas.core.frame.DataFrame'>\n",
      "Index: 7002 entries, 4 to 9998\n",
      "Data columns (total 10 columns):\n",
      " #   Column    Non-Null Count  Dtype  \n",
      "---  ------    --------------  -----  \n",
      " 0   MOVIES    7002 non-null   object \n",
      " 1   YEAR      7002 non-null   int32  \n",
      " 2   GENRE     7002 non-null   object \n",
      " 3   RATING    7002 non-null   float64\n",
      " 4   ONE-LINE  7002 non-null   object \n",
      " 5   VOTES     7002 non-null   int32  \n",
      " 6   RunTime   7002 non-null   int32  \n",
      " 7   Gross     7002 non-null   float64\n",
      " 8   Director  7002 non-null   object \n",
      " 9   Stars     7002 non-null   object \n",
      "dtypes: float64(2), int32(3), object(5)\n",
      "memory usage: 519.7+ KB\n"
     ]
    }
   ],
   "source": [
    "df.info()"
   ]
  },
  {
   "cell_type": "code",
   "execution_count": null,
   "id": "392f5f2f",
   "metadata": {},
   "outputs": [],
   "source": []
  }
 ],
 "metadata": {
  "kernelspec": {
   "display_name": "Python 3 (ipykernel)",
   "language": "python",
   "name": "python3"
  },
  "language_info": {
   "codemirror_mode": {
    "name": "ipython",
    "version": 3
   },
   "file_extension": ".py",
   "mimetype": "text/x-python",
   "name": "python",
   "nbconvert_exporter": "python",
   "pygments_lexer": "ipython3",
   "version": "3.11.5"
  }
 },
 "nbformat": 4,
 "nbformat_minor": 5
}
